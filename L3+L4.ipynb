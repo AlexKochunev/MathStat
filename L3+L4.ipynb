{
 "cells": [
  {
   "cell_type": "markdown",
   "metadata": {},
   "source": [
    "Урок 3\n",
    "\n",
    "\n",
    "1. Даны значения зарплат из выборки выпускников: 100, 80, 75, 77, 89, 33, 45, 25, 65, 17, 30, 24, 57, 55, 70, 75, 65, 84, 90, 150. Посчитать (желательно без использования статистических методов наподобие std, var, mean) среднее арифметическое, среднее квадратичное отклонение, смещенную и несмещенную оценки дисперсий для данной выборки."
   ]
  },
  {
   "cell_type": "code",
   "execution_count": 11,
   "metadata": {},
   "outputs": [
    {
     "name": "stdout",
     "output_type": "stream",
     "text": [
      "65.3\n"
     ]
    }
   ],
   "source": [
    "zp = [100, 80, 75, 77, 89, 33, 45, 25, 65, 17, 30, 24, 57, 55, 70, 75, 65, 84, 90, 150]\n",
    "mx = sum(zp)/len(zp)\n",
    "print(mx)"
   ]
  },
  {
   "cell_type": "code",
   "execution_count": 20,
   "metadata": {},
   "outputs": [
    {
     "name": "stdout",
     "output_type": "stream",
     "text": [
      "65.3\n"
     ]
    }
   ],
   "source": [
    "print(np.mean(zp))"
   ]
  },
  {
   "cell_type": "code",
   "execution_count": 12,
   "metadata": {},
   "outputs": [
    {
     "name": "stdout",
     "output_type": "stream",
     "text": [
      "30.823854398825596\n"
     ]
    }
   ],
   "source": [
    "from math import sqrt\n",
    "import numpy as np\n",
    "s = 0\n",
    "for i in zp:\n",
    "    s += (i-mx)**2\n",
    "s = sqrt(s/len(zp))\n",
    "print(s)"
   ]
  },
  {
   "cell_type": "code",
   "execution_count": 10,
   "metadata": {},
   "outputs": [
    {
     "name": "stdout",
     "output_type": "stream",
     "text": [
      "30.823854398825596\n"
     ]
    }
   ],
   "source": [
    "print(np.std(zp))"
   ]
  },
  {
   "cell_type": "code",
   "execution_count": 14,
   "metadata": {},
   "outputs": [
    {
     "name": "stdout",
     "output_type": "stream",
     "text": [
      "950.11\n"
     ]
    }
   ],
   "source": [
    "s2 = s**2\n",
    "print(s2)"
   ]
  },
  {
   "cell_type": "code",
   "execution_count": 15,
   "metadata": {},
   "outputs": [
    {
     "name": "stdout",
     "output_type": "stream",
     "text": [
      "950.11\n"
     ]
    }
   ],
   "source": [
    "print(np.var(zp))"
   ]
  },
  {
   "cell_type": "code",
   "execution_count": 18,
   "metadata": {},
   "outputs": [
    {
     "name": "stdout",
     "output_type": "stream",
     "text": [
      "1000.1157894736842\n"
     ]
    }
   ],
   "source": [
    "sn = 0\n",
    "for i in zp:\n",
    "    sn += (i-mx)**2\n",
    "sn = sn/(len(zp)-1)\n",
    "print(sn)"
   ]
  },
  {
   "cell_type": "code",
   "execution_count": 23,
   "metadata": {},
   "outputs": [
    {
     "name": "stdout",
     "output_type": "stream",
     "text": [
      "1000.1157894736842\n"
     ]
    }
   ],
   "source": [
    "print(np.var(zp, ddof=1))"
   ]
  },
  {
   "cell_type": "markdown",
   "metadata": {},
   "source": [
    "2.В первом ящике находится 8 мячей, из которых 5 - белые. Во втором ящике - 12 мячей, из которых 5 белых. Из первого ящика вытаскивают случайным образом два мяча, из второго - 4. Какова вероятность того, что 3 мяча белые?"
   ]
  },
  {
   "cell_type": "code",
   "execution_count": 25,
   "metadata": {},
   "outputs": [
    {
     "data": {
      "text/plain": [
       "0.3686868686868687"
      ]
     },
     "execution_count": 25,
     "metadata": {},
     "output_type": "execute_result"
    }
   ],
   "source": [
    "from math import factorial\n",
    "\n",
    "def comb(n,k):\n",
    "    return int(factorial(n)/(factorial(k)*factorial(n-k)))\n",
    "\n",
    "p1 = ((comb(5,0)*comb(3,2)/comb(8,2)))*((comb(5,3)*comb(7,1)/comb(12,4)))\n",
    "p2 = ((comb(5,1)*comb(3,1)/comb(8,2)))*((comb(5,2)*comb(7,2)/comb(12,4)))\n",
    "p3 = ((comb(5,2)*comb(3,0)/comb(8,2)))*((comb(5,1)*comb(7,3)/comb(12,4)))\n",
    "\n",
    "p = p1+p2+p3\n",
    "p"
   ]
  },
  {
   "cell_type": "markdown",
   "metadata": {},
   "source": [
    "3.На соревновании по биатлону один из трех спортсменов стреляет и попадает в мишень. Вероятность попадания для первого спортсмена равна 0.9, для второго — 0.8, для третьего — 0.6. Найти вероятность того, что выстрел произведен: a). первым спортсменом б). вторым спортсменом в). третьим спортсменом."
   ]
  },
  {
   "cell_type": "code",
   "execution_count": 27,
   "metadata": {},
   "outputs": [
    {
     "name": "stdout",
     "output_type": "stream",
     "text": [
      "выстрел произведен: a). первым спортсменом - 0.391304347826087 б). вторым спортсменом - 0.3478260869565218 в). третьим спортсменом - 0.2608695652173913.\n"
     ]
    }
   ],
   "source": [
    "p1 = 0.9\n",
    "p2 = 0.8\n",
    "p3 = 0.6\n",
    "\n",
    "p0 = p1/3+p2/3+p3/3\n",
    "pa = p1/(3*p0)\n",
    "pb = p2/(3*p0)\n",
    "pc = p3/(3*p0)\n",
    "\n",
    "print(f'выстрел произведен: a). первым спортсменом - {pa} б). вторым спортсменом - {pb} в). третьим спортсменом - {pc}.')"
   ]
  },
  {
   "cell_type": "markdown",
   "metadata": {},
   "source": [
    "4.В университет на факультеты A и B поступило равное количество студентов, а на факультет C студентов поступило столько же, сколько на A и B вместе. Вероятность того, что студент факультета A сдаст первую сессию, равна 0.8. Для студента факультета B эта вероятность равна 0.7, а для студента факультета C - 0.9. Студент сдал первую сессию. Какова вероятность, что он учится: a). на факультете A б). на факультете B в). на факультете C?"
   ]
  },
  {
   "cell_type": "code",
   "execution_count": 30,
   "metadata": {},
   "outputs": [
    {
     "name": "stdout",
     "output_type": "stream",
     "text": [
      "a). на факультете A - 0.24242424242424246 б). на факультете B - 0.21212121212121213 в). на факультете C - 0.5454545454545455\n"
     ]
    }
   ],
   "source": [
    "pa = 0.8\n",
    "pb = 0.7\n",
    "pc = 0.9\n",
    "\n",
    "p0 = pa/4+pb/4+pc/2\n",
    "print(f'a). на факультете A - {pa/(4*p0)} б). на факультете B - {pb/(4*p0)} в). на факультете C - {pc/(2*p0)}')\n"
   ]
  },
  {
   "cell_type": "markdown",
   "metadata": {},
   "source": [
    "5. Устройство состоит из трех деталей. Для первой детали вероятность выйти из строя в первый месяц равна 0.1, для второй - 0.2, для третьей - 0.25. Какова вероятность того, что в первый месяц выйдут из строя: а). все детали б). только две детали в). хотя бы одна деталь г). от одной до двух деталей?"
   ]
  },
  {
   "cell_type": "code",
   "execution_count": 32,
   "metadata": {},
   "outputs": [
    {
     "name": "stdout",
     "output_type": "stream",
     "text": [
      " а). все детали - 0.005000000000000001 б). только две детали - 0.08 в). хотя бы одна деталь - 0.45999999999999996 г). от одной до двух деталей - 0.45499999999999996\n"
     ]
    }
   ],
   "source": [
    "p1 = 0.1\n",
    "p2 = 0.2\n",
    "p3 = 0.25\n",
    "\n",
    "pa = p1*p2*p3\n",
    "pb = (1-p1)*p2*p3+(1-p2)*p1*p3+(1-p3)*p2*p1\n",
    "pc = 1-(1-p1)*(1-p2)*(1-p3)\n",
    "pd = pc - pa\n",
    "\n",
    "print(f' а). все детали - {pa} б). только две детали - {pb} в). хотя бы одна деталь - {pc} г). от одной до двух деталей - {pd}')\n",
    "\n"
   ]
  },
  {
   "cell_type": "markdown",
   "metadata": {},
   "source": [
    "Урок 4\n",
    "\n",
    "\n",
    "\n",
    "1.Случайная непрерывная величина A имеет равномерное распределение на промежутке (200, 800].\n",
    "Найдите ее среднее значение и дисперсию."
   ]
  },
  {
   "cell_type": "code",
   "execution_count": 33,
   "metadata": {},
   "outputs": [
    {
     "name": "stdout",
     "output_type": "stream",
     "text": [
      "среднее значение - 500.0 и дисперсия 30000.0\n"
     ]
    }
   ],
   "source": [
    "a = 200\n",
    "b = 800\n",
    "\n",
    "mx = (a+b)/2\n",
    "dx = ((b-a)**2)/12\n",
    "\n",
    "print(f'среднее значение - {mx} и дисперсия {dx}')"
   ]
  },
  {
   "cell_type": "markdown",
   "metadata": {},
   "source": [
    "2.О случайной непрерывной равномерно распределенной величине B известно, что ее дисперсия равна 0.2.\n",
    "Можно ли найти правую границу величины B и ее среднее значение зная, что левая граница равна 0.5?\n",
    "Если да, найдите ее."
   ]
  },
  {
   "cell_type": "code",
   "execution_count": 34,
   "metadata": {},
   "outputs": [
    {
     "name": "stdout",
     "output_type": "stream",
     "text": [
      "правая граница величины = 2.049193338482967 и ее среднее значение = 1.2745966692414834\n"
     ]
    }
   ],
   "source": [
    "dx = 0.2\n",
    "a = 0.5\n",
    "\n",
    "b = sqrt(dx*12) + 0.5\n",
    "mx = (a+b)/2\n",
    "\n",
    "print(f'правая граница величины = {b} и ее среднее значение = {mx}')"
   ]
  },
  {
   "cell_type": "markdown",
   "metadata": {},
   "source": [
    "3. Непрерывная случайная величина X распределена нормально и задана плотностью распределения\n",
    "f(x) = (1 / (4 * sqrt(2*pi))) * (exp(-(x+2)**2) / 32).\n",
    "Найдите:\n",
    "а). M(X)\n",
    "б). D(X)\n",
    "в). std(X) (среднее квадратичное отклонение)"
   ]
  },
  {
   "cell_type": "markdown",
   "metadata": {},
   "source": [
    "а). M(X) = -2 \n",
    "б). D(X) = 4 \n",
    "в). std(X) = 16 "
   ]
  },
  {
   "cell_type": "markdown",
   "metadata": {},
   "source": [
    "4. Рост взрослого населения города X имеет нормальное распределение.\n",
    "Причем, средний рост равен 174 см, а среднее квадратичное отклонение равно 8 см.\n",
    "Какова вероятность того, что случайным образом выбранный взрослый человек имеет рост:\n",
    "\n",
    "а). больше 182 см = 50 - 34.1 = 15.9%\n",
    "\n",
    "б). больше 190 см = 15.9 - 13.6 = 2.3%\n",
    "\n",
    "в). от 166 см до 190 см = 34.1+34.1+13.6 = 82.8\n",
    "\n",
    "г). от 166 см до 182 см = 34.1+34.1 = 68.2\n",
    "\n",
    "д). от 158 см до 190 см = 34.1+34.1+13.6+13.6 = 95.4\n",
    "\n",
    "е). не выше 150 см или не ниже 190 см  = 2.3 + 0.15 = 2.45\n",
    "\n",
    "ё). не выше 150 см или не ниже 198 см = 0.15 + 0.15 = 0.3\n",
    "\n",
    "ж). ниже 166 см. = 13.6+0.15.2.15 = 15.9\n"
   ]
  },
  {
   "cell_type": "markdown",
   "metadata": {},
   "source": [
    "5. На сколько сигм (средних квадратичных отклонений) отклоняется рост человека, равный 190 см, от\n",
    "математического ожидания роста в популяции, в которой M(X) = 178 см и D(X) = 25 кв.см? "
   ]
  },
  {
   "cell_type": "code",
   "execution_count": 35,
   "metadata": {},
   "outputs": [
    {
     "data": {
      "text/plain": [
       "2.4"
      ]
     },
     "execution_count": 35,
     "metadata": {},
     "output_type": "execute_result"
    }
   ],
   "source": [
    "dx = 25\n",
    "mx = 178\n",
    "x = 190\n",
    "\n",
    "std = sqrt(25)\n",
    "\n",
    "sig = (x-mx)/std\n",
    "sig\n"
   ]
  },
  {
   "cell_type": "code",
   "execution_count": null,
   "metadata": {},
   "outputs": [],
   "source": []
  }
 ],
 "metadata": {
  "kernelspec": {
   "display_name": "Python 3",
   "language": "python",
   "name": "python3"
  },
  "language_info": {
   "codemirror_mode": {
    "name": "ipython",
    "version": 3
   },
   "file_extension": ".py",
   "mimetype": "text/x-python",
   "name": "python",
   "nbconvert_exporter": "python",
   "pygments_lexer": "ipython3",
   "version": "3.8.5"
  }
 },
 "nbformat": 4,
 "nbformat_minor": 4
}
