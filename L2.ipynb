{
 "cells": [
  {
   "cell_type": "markdown",
   "metadata": {},
   "source": [
    "Вероятность того, что стрелок попадет в мишень, выстрелив один раз, равна 0.8. Стрелок выстрелил 100 раз. Найдите вероятность того, что стрелок попадет в цель ровно 85 раз."
   ]
  },
  {
   "cell_type": "markdown",
   "metadata": {},
   "source": [
    "k = 85\n",
    "n = 100\n",
    "p = 0.8\n",
    "\n",
    "$P_{100}(X=85) = C^{85}_{100}\\cdot0.8^{85}\\cdot0.2^{15} = \\frac{100!}{85!*15!}\\cdot0.8^{85}\\cdot0.2^{15} = 0.048$"
   ]
  },
  {
   "cell_type": "code",
   "execution_count": 8,
   "metadata": {},
   "outputs": [
    {
     "name": "stdout",
     "output_type": "stream",
     "text": [
      "0.048061793700746556\n"
     ]
    }
   ],
   "source": [
    "import math as m\n",
    "print((m.factorial(100)/(m.factorial(85)*m.factorial(15)))*(0.8**85)*(0.2**15))"
   ]
  },
  {
   "cell_type": "markdown",
   "metadata": {},
   "source": [
    "Вероятность того, что лампочка перегорит в течение первого дня эксплуатации, равна 0.0004. В жилом комплексе после ремонта в один день включили 5000 новых лампочек. Какова вероятность, что ни одна из них не перегорит в первый день? Какова вероятность, что перегорят ровно две?"
   ]
  },
  {
   "cell_type": "markdown",
   "metadata": {},
   "source": [
    "n = 5000\n",
    "\n",
    "m = 0\n",
    "\n",
    "$\\lambda = p*n = 0.0004*5000 = 2$\n",
    "\n",
    "$P(0) = \\frac{2^0}{0!} \\cdot e^{-2} = e^{-2} = 0,135$"
   ]
  },
  {
   "cell_type": "markdown",
   "metadata": {},
   "source": [
    "Монету подбросили 144 раза. Какова вероятность, что орел выпадет ровно 70 раз?"
   ]
  },
  {
   "cell_type": "markdown",
   "metadata": {},
   "source": [
    "k = 70 n = 144 p = 0.5\n",
    "\n",
    "$P_{144}(X=70) = C^{70}_{144}\\cdot0.5^{70}\\cdot0.5^{74} = \\frac{144!}{70!*74!}\\cdot0.5^{70}\\cdot0.5^{74} = 0.0628$"
   ]
  },
  {
   "cell_type": "code",
   "execution_count": 9,
   "metadata": {},
   "outputs": [
    {
     "name": "stdout",
     "output_type": "stream",
     "text": [
      "0.06281178035144776\n"
     ]
    }
   ],
   "source": [
    "print((m.factorial(144)/(m.factorial(70)*m.factorial(74)))*(0.5**70)*(0.5**74))"
   ]
  },
  {
   "cell_type": "markdown",
   "metadata": {},
   "source": [
    "В первом ящике находится 10 мячей, из которых 7 - белые. Во втором ящике - 11 мячей, из которых 9 белых. Из каждого ящика вытаскивают случайным образом по два мяча. Какова вероятность того, что все мячи белые? Какова вероятность того, что ровно два мяча белые? Какова вероятность того, что хотя бы один мяч белый?"
   ]
  },
  {
   "cell_type": "markdown",
   "metadata": {},
   "source": [
    "a) $P = \\frac{7}{10}\\cdot\\frac{6}{9}\\cdot\\frac{9}{11}\\cdot\\frac{8}{10} = 0.30(54)$\n",
    "\n",
    "b) возможно 3 варианта\n",
    "\n",
    "1 - из 1 корзины вытащили 2 белых а из 2-ой только чёрные \n",
    "    \n",
    "$$P = \\frac{7}{10}\\cdot\\frac{6}{9}\\cdot\\frac{2}{11}\\cdot\\frac{1}{10} = 0.00(84)$$\n",
    "        \n",
    "2 - из 2 корзины вытащили 2 белых а из 1-ой только чёрные\n",
    "    \n",
    "$$P = \\frac{3}{10}\\cdot\\frac{2}{9}\\cdot\\frac{9}{11}\\cdot\\frac{8}{10} = 0.04(36)$$\n",
    "        \n",
    "3 - из 1 корзины вытащили 1 белых и из 2-ой вытащили 1 белых\n",
    "    \n",
    "$$P = \\frac{7}{10}\\cdot\\frac{3}{9}\\cdot\\frac{9}{11}\\cdot\\frac{2}{10} + \\frac{3}{10}\\cdot\\frac{7}{9}\\cdot\\frac{9}{11}\\cdot\\frac{2}{10} + \\frac{7}{10}\\cdot\\frac{3}{9}\\cdot\\frac{2}{11}\\cdot\\frac{9}{10} + \\frac{3}{10}\\cdot\\frac{7}{9}\\cdot\\frac{2}{11}\\cdot\\frac{9}{10} = 0.15(27)$$\n",
    "        \n",
    "   $P = 0.20(48)$"
   ]
  },
  {
   "cell_type": "code",
   "execution_count": 14,
   "metadata": {},
   "outputs": [
    {
     "name": "stdout",
     "output_type": "stream",
     "text": [
      "0.20484848484848486\n"
     ]
    }
   ],
   "source": [
    "print((7*3*9*2)/(10*9*11*10)+(7*3*9*2)/(10*9*11*10)+(7*3*9*2)/(10*9*11*10)+(7*3*9*2)/(10*9*11*10)+(7*6*1*2)/(10*9*11*10)+(2*3*9*8)/(10*9*11*10))"
   ]
  },
  {
   "cell_type": "code",
   "execution_count": null,
   "metadata": {},
   "outputs": [],
   "source": []
  }
 ],
 "metadata": {
  "kernelspec": {
   "display_name": "Python 3",
   "language": "python",
   "name": "python3"
  },
  "language_info": {
   "codemirror_mode": {
    "name": "ipython",
    "version": 3
   },
   "file_extension": ".py",
   "mimetype": "text/x-python",
   "name": "python",
   "nbconvert_exporter": "python",
   "pygments_lexer": "ipython3",
   "version": "3.8.5"
  }
 },
 "nbformat": 4,
 "nbformat_minor": 4
}
