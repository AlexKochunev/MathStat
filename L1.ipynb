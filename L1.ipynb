{
 "cells": [
  {
   "cell_type": "markdown",
   "metadata": {},
   "source": [
    "1. Из колоды в 52 карты извлекаются случайным образом 4 карты. a) Найти вероятность того, что все карты – крести. б) Найти вероятность, что среди 4-х карт окажется хотя бы один туз."
   ]
  },
  {
   "cell_type": "markdown",
   "metadata": {},
   "source": [
    "a) \n",
    "\n",
    "$P(A) = \\frac{13}{52}\\cdot\\frac{12}{51}\\cdot\\frac{11}{50}\\cdot\\frac{10}{49} = \\frac{11}{4165} = 0,00264$\n",
    "\n",
    "\n",
    "b) \n",
    "\n",
    "$ C^{4}_{52} = \\frac{52!}{4!*(52-4)!} = \\frac{52!}{4!*48!} = 270725$\n",
    "\n",
    "$ C^{4}_{48} = \\frac{48!}{4!*(48-4)!} = \\frac{48!}{4!*44!} = 194580$\n",
    "\n",
    "$P(A) = \\frac{C^{4}_{52} - C^{4}_{48}}{C^{4}_{52}} = \\frac{76145}{270725} = 0,28126$\n"
   ]
  },
  {
   "cell_type": "markdown",
   "metadata": {},
   "source": [
    "2. На входной двери подъезда установлен кодовый замок, содержащий десять кнопок с цифрами от 0 до 9. Код содержит три цифры, которые нужно нажать одновременно. Какова вероятность того, что человек, не знающий код, откроет дверь с первой попытки?"
   ]
  },
  {
   "cell_type": "markdown",
   "metadata": {},
   "source": [
    "$P(A) = \\frac{3}{10}\\cdot\\frac{2}{9}\\cdot\\frac{1}{8} = \\frac{1}{120} = 0,008(3)$"
   ]
  },
  {
   "cell_type": "markdown",
   "metadata": {},
   "source": [
    "3. В ящике имеется 15 деталей, из которых 9 окрашены. Рабочий случайным образом извлекает 3 детали. Какова вероятность того, что все извлеченные детали окрашены?"
   ]
  },
  {
   "cell_type": "markdown",
   "metadata": {},
   "source": [
    "$P(A) = \\frac{9}{15}\\cdot\\frac{8}{14}\\cdot\\frac{7}{13} = \\frac{12}{65} = 0,1846$"
   ]
  },
  {
   "cell_type": "markdown",
   "metadata": {},
   "source": [
    "4. В лотерее 100 билетов. Из них 2 выигрышных. Какова вероятность того, что 2 приобретенных билета окажутся выигрышными?"
   ]
  },
  {
   "cell_type": "markdown",
   "metadata": {},
   "source": [
    "$P(A) = \\frac{2}{100}\\cdot\\frac{1}{99} = 0.0002$"
   ]
  },
  {
   "cell_type": "code",
   "execution_count": null,
   "metadata": {},
   "outputs": [],
   "source": []
  }
 ],
 "metadata": {
  "kernelspec": {
   "display_name": "Python 3",
   "language": "python",
   "name": "python3"
  },
  "language_info": {
   "codemirror_mode": {
    "name": "ipython",
    "version": 3
   },
   "file_extension": ".py",
   "mimetype": "text/x-python",
   "name": "python",
   "nbconvert_exporter": "python",
   "pygments_lexer": "ipython3",
   "version": "3.8.5"
  }
 },
 "nbformat": 4,
 "nbformat_minor": 4
}
