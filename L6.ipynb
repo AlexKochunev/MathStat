{
 "cells": [
  {
   "cell_type": "markdown",
   "metadata": {},
   "source": [
    "1. Даны значения величины заработной платы заемщиков банка (zp) и значения их поведенческого кредитного скоринга (ks):\n",
    "zp = [35, 45, 190, 200, 40, 70, 54, 150, 120, 110],\n",
    "ks = [401, 574, 874, 919, 459, 739, 653, 902, 746, 832].\n",
    "Найдите ковариацию этих двух величин с помощью элементарных действий, а затем с помощью функции cov из numpy\n",
    "Полученные значения должны быть равны.\n",
    "Найдите коэффициент корреляции Пирсона с помощью ковариации и среднеквадратичных отклонений двух признаков,\n",
    "а затем с использованием функций из библиотек numpy и pandas."
   ]
  },
  {
   "cell_type": "code",
   "execution_count": 31,
   "metadata": {},
   "outputs": [
    {
     "name": "stdout",
     "output_type": "stream",
     "text": [
      "Ковариация по формуле - 9157.839999999997 . \n",
      "Используя функцию cov - 9157.84\n",
      "Корреляция по формуле - 0.8874900920739158 . \n",
      "Используя функцию corr - 0.8874900920739162\n"
     ]
    }
   ],
   "source": [
    "import numpy as np\n",
    "import pandas as pd\n",
    "from math import sqrt\n",
    "\n",
    "\n",
    "zp = np.array([35, 45, 190, 200, 40, 70, 54, 150, 120, 110]) \n",
    "ks = np.array([401, 574, 874, 919, 459, 739, 653, 902, 746, 832])\n",
    "df = pd.DataFrame({'zp':zp,'ks':ks},columns=['zp','ks'])\n",
    "\n",
    "\n",
    "cov = (zp*ks).mean()-(zp.mean()*ks.mean())\n",
    "\n",
    "print(f'Ковариация по формуле - {cov} . \\nИспользуя функцию cov - {np.cov(zp,ks,ddof=0)[0,1]}')\n",
    "\n",
    "zstd = zp.std()\n",
    "kstd = ks.std()\n",
    "\n",
    "corr = cov/(zstd*kstd)\n",
    "\n",
    "print(f'Корреляция по формуле - {corr} . \\nИспользуя функцию corr - {df.corr().iloc[0, 1]}')\n",
    "\n"
   ]
  },
  {
   "cell_type": "markdown",
   "metadata": {},
   "source": [
    "2. Измерены значения IQ выборки студентов,\n",
    "обучающихся в местных технических вузах:\n",
    "131, 125, 115, 122, 131, 115, 107, 99, 125, 111.\n",
    "Известно, что в генеральной совокупности IQ распределен нормально.\n",
    "Найдите доверительный интервал для математического ожидания с надежностью 0.95."
   ]
  },
  {
   "cell_type": "code",
   "execution_count": 34,
   "metadata": {},
   "outputs": [
    {
     "name": "stdout",
     "output_type": "stream",
     "text": [
      "Доверительный интервал on 110.55660776308164 до 125.64339223691834\n"
     ]
    }
   ],
   "source": [
    "iq = np.array([131, 125, 115, 122, 131, 115, 107, 99, 125, 111])\n",
    "a = 0.05\n",
    "t = 2.262 #(n = 9 a = 0.025)\n",
    "t1 = iq.mean() - (t*iq.std(ddof=1))/(sqrt(len(iq)))\n",
    "t2 = iq.mean() + (t*iq.std(ddof=1))/(sqrt(len(iq)))\n",
    "\n",
    "print(f'Доверительный интервал on {t1} до {t2}')"
   ]
  },
  {
   "cell_type": "markdown",
   "metadata": {},
   "source": [
    "3.Известно, что рост футболистов в сборной распределен нормально\n",
    "с дисперсией генеральной совокупности, равной 25 кв.см. Объем выборки равен 27,\n",
    "среднее выборочное составляет 174.2. Найдите доверительный интервал для математического\n",
    "ожидания с надежностью 0.95."
   ]
  },
  {
   "cell_type": "code",
   "execution_count": 35,
   "metadata": {},
   "outputs": [
    {
     "name": "stdout",
     "output_type": "stream",
     "text": [
      "Доверительный интервал on 172.31398912064722 до 176.08601087935276\n"
     ]
    }
   ],
   "source": [
    "d = 25\n",
    "std = sqrt(d)\n",
    "n = 27\n",
    "mu = 174.2\n",
    "a = 0.05\n",
    "t = 1.96 #(n = 27. a = 0.025)\n",
    "\n",
    "t1 = mu - (t*std)/(sqrt(n))\n",
    "t2 = mu + (t*std)/(sqrt(n))\n",
    "\n",
    "print(f'Доверительный интервал on {t1} до {t2}')"
   ]
  },
  {
   "cell_type": "markdown",
   "metadata": {},
   "source": [
    "4. Выберите тему для проектной работы по курсу Теории вероятностей и математической статистики\n",
    "и напишите ее в комментарии к Практическому заданию"
   ]
  },
  {
   "cell_type": "markdown",
   "metadata": {},
   "source": [
    "Попробую 1-ую"
   ]
  }
 ],
 "metadata": {
  "kernelspec": {
   "display_name": "Python 3",
   "language": "python",
   "name": "python3"
  },
  "language_info": {
   "codemirror_mode": {
    "name": "ipython",
    "version": 3
   },
   "file_extension": ".py",
   "mimetype": "text/x-python",
   "name": "python",
   "nbconvert_exporter": "python",
   "pygments_lexer": "ipython3",
   "version": "3.8.5"
  }
 },
 "nbformat": 4,
 "nbformat_minor": 4
}
